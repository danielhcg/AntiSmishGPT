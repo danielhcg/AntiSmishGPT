{
  "nbformat": 4,
  "nbformat_minor": 0,
  "metadata": {
    "colab": {
      "provenance": [],
      "machine_shape": "hm",
      "gpuType": "A100",
      "authorship_tag": "ABX9TyP1WG/sDltKHx/NY9xI4EeQ",
      "include_colab_link": true
    },
    "kernelspec": {
      "name": "python3",
      "display_name": "Python 3"
    },
    "language_info": {
      "name": "python"
    },
    "accelerator": "GPU"
  },
  "cells": [
    {
      "cell_type": "markdown",
      "metadata": {
        "id": "view-in-github",
        "colab_type": "text"
      },
      "source": [
        "<a href=\"https://colab.research.google.com/github/danielhcg/AntiSmishGPT/blob/main/gemini_project.ipynb\" target=\"_parent\"><img src=\"https://colab.research.google.com/assets/colab-badge.svg\" alt=\"Open In Colab\"/></a>"
      ]
    },
    {
      "cell_type": "code",
      "execution_count": 1,
      "metadata": {
        "id": "JqXbcxDiPNuH"
      },
      "outputs": [],
      "source": [
        "#pip install -q -U google-generativeai"
      ]
    },
    {
      "cell_type": "code",
      "source": [
        "# Import the Python SDK\n",
        "import google.generativeai as genai\n",
        "# Used to securely store your API key\n",
        "from google.colab import userdata\n",
        "\n",
        "GOOGLE_API_KEY=userdata.get('GOOGLE_API_KEY')\n",
        "genai.configure(api_key=GOOGLE_API_KEY)"
      ],
      "metadata": {
        "id": "R3IRkUp7PiBE"
      },
      "execution_count": 2,
      "outputs": []
    },
    {
      "cell_type": "code",
      "source": [
        "import pandas as pd\n",
        "import time"
      ],
      "metadata": {
        "id": "-jy0egnacN_G"
      },
      "execution_count": 3,
      "outputs": []
    },
    {
      "cell_type": "code",
      "source": [
        "model = genai.GenerativeModel('gemini-pro')"
      ],
      "metadata": {
        "id": "DChBNIPUPniE"
      },
      "execution_count": 4,
      "outputs": []
    },
    {
      "cell_type": "code",
      "source": [
        "def detect(bodies):\n",
        "    try:\n",
        "        # Construct prompts for the batch\n",
        "        prompts = [f\"SMS Body: {body}\\nIs this message real or fake?\" for body in bodies]\n",
        "        results = []\n",
        "\n",
        "        # Apply prompts to model in a single batch request\n",
        "        responses = model.generate_content(prompts)  # Assuming the model can handle a list of prompts\n",
        "\n",
        "        # Process each response to determine authenticity\n",
        "        for response in responses:\n",
        "            if \"real\" in response.text.lower():\n",
        "                results.append(\"Real\")\n",
        "            elif \"fake\" in response.text.lower():\n",
        "                results.append(\"Fake\")\n",
        "            else:\n",
        "                results.append(\"Undetermined\")\n",
        "\n",
        "        return results\n",
        "\n",
        "    except Exception as error:\n",
        "        print(\"Error occurred:\", str(error))\n",
        "        return [\"Error\"] * len(bodies)"
      ],
      "metadata": {
        "id": "J1D1A-XbRUSs"
      },
      "execution_count": 5,
      "outputs": []
    },
    {
      "cell_type": "code",
      "source": [
        "from google.colab import files\n",
        "uploaded = files.upload()"
      ],
      "metadata": {
        "colab": {
          "base_uri": "https://localhost:8080/",
          "height": 73
        },
        "id": "_s9Ruy1afl_L",
        "outputId": "27206886-cfad-4e1b-8751-bd62dec025e4"
      },
      "execution_count": 6,
      "outputs": [
        {
          "output_type": "display_data",
          "data": {
            "text/plain": [
              "<IPython.core.display.HTML object>"
            ],
            "text/html": [
              "\n",
              "     <input type=\"file\" id=\"files-f2fc5705-005f-4582-8db1-0e12d5b24717\" name=\"files[]\" multiple disabled\n",
              "        style=\"border:none\" />\n",
              "     <output id=\"result-f2fc5705-005f-4582-8db1-0e12d5b24717\">\n",
              "      Upload widget is only available when the cell has been executed in the\n",
              "      current browser session. Please rerun this cell to enable.\n",
              "      </output>\n",
              "      <script>// Copyright 2017 Google LLC\n",
              "//\n",
              "// Licensed under the Apache License, Version 2.0 (the \"License\");\n",
              "// you may not use this file except in compliance with the License.\n",
              "// You may obtain a copy of the License at\n",
              "//\n",
              "//      http://www.apache.org/licenses/LICENSE-2.0\n",
              "//\n",
              "// Unless required by applicable law or agreed to in writing, software\n",
              "// distributed under the License is distributed on an \"AS IS\" BASIS,\n",
              "// WITHOUT WARRANTIES OR CONDITIONS OF ANY KIND, either express or implied.\n",
              "// See the License for the specific language governing permissions and\n",
              "// limitations under the License.\n",
              "\n",
              "/**\n",
              " * @fileoverview Helpers for google.colab Python module.\n",
              " */\n",
              "(function(scope) {\n",
              "function span(text, styleAttributes = {}) {\n",
              "  const element = document.createElement('span');\n",
              "  element.textContent = text;\n",
              "  for (const key of Object.keys(styleAttributes)) {\n",
              "    element.style[key] = styleAttributes[key];\n",
              "  }\n",
              "  return element;\n",
              "}\n",
              "\n",
              "// Max number of bytes which will be uploaded at a time.\n",
              "const MAX_PAYLOAD_SIZE = 100 * 1024;\n",
              "\n",
              "function _uploadFiles(inputId, outputId) {\n",
              "  const steps = uploadFilesStep(inputId, outputId);\n",
              "  const outputElement = document.getElementById(outputId);\n",
              "  // Cache steps on the outputElement to make it available for the next call\n",
              "  // to uploadFilesContinue from Python.\n",
              "  outputElement.steps = steps;\n",
              "\n",
              "  return _uploadFilesContinue(outputId);\n",
              "}\n",
              "\n",
              "// This is roughly an async generator (not supported in the browser yet),\n",
              "// where there are multiple asynchronous steps and the Python side is going\n",
              "// to poll for completion of each step.\n",
              "// This uses a Promise to block the python side on completion of each step,\n",
              "// then passes the result of the previous step as the input to the next step.\n",
              "function _uploadFilesContinue(outputId) {\n",
              "  const outputElement = document.getElementById(outputId);\n",
              "  const steps = outputElement.steps;\n",
              "\n",
              "  const next = steps.next(outputElement.lastPromiseValue);\n",
              "  return Promise.resolve(next.value.promise).then((value) => {\n",
              "    // Cache the last promise value to make it available to the next\n",
              "    // step of the generator.\n",
              "    outputElement.lastPromiseValue = value;\n",
              "    return next.value.response;\n",
              "  });\n",
              "}\n",
              "\n",
              "/**\n",
              " * Generator function which is called between each async step of the upload\n",
              " * process.\n",
              " * @param {string} inputId Element ID of the input file picker element.\n",
              " * @param {string} outputId Element ID of the output display.\n",
              " * @return {!Iterable<!Object>} Iterable of next steps.\n",
              " */\n",
              "function* uploadFilesStep(inputId, outputId) {\n",
              "  const inputElement = document.getElementById(inputId);\n",
              "  inputElement.disabled = false;\n",
              "\n",
              "  const outputElement = document.getElementById(outputId);\n",
              "  outputElement.innerHTML = '';\n",
              "\n",
              "  const pickedPromise = new Promise((resolve) => {\n",
              "    inputElement.addEventListener('change', (e) => {\n",
              "      resolve(e.target.files);\n",
              "    });\n",
              "  });\n",
              "\n",
              "  const cancel = document.createElement('button');\n",
              "  inputElement.parentElement.appendChild(cancel);\n",
              "  cancel.textContent = 'Cancel upload';\n",
              "  const cancelPromise = new Promise((resolve) => {\n",
              "    cancel.onclick = () => {\n",
              "      resolve(null);\n",
              "    };\n",
              "  });\n",
              "\n",
              "  // Wait for the user to pick the files.\n",
              "  const files = yield {\n",
              "    promise: Promise.race([pickedPromise, cancelPromise]),\n",
              "    response: {\n",
              "      action: 'starting',\n",
              "    }\n",
              "  };\n",
              "\n",
              "  cancel.remove();\n",
              "\n",
              "  // Disable the input element since further picks are not allowed.\n",
              "  inputElement.disabled = true;\n",
              "\n",
              "  if (!files) {\n",
              "    return {\n",
              "      response: {\n",
              "        action: 'complete',\n",
              "      }\n",
              "    };\n",
              "  }\n",
              "\n",
              "  for (const file of files) {\n",
              "    const li = document.createElement('li');\n",
              "    li.append(span(file.name, {fontWeight: 'bold'}));\n",
              "    li.append(span(\n",
              "        `(${file.type || 'n/a'}) - ${file.size} bytes, ` +\n",
              "        `last modified: ${\n",
              "            file.lastModifiedDate ? file.lastModifiedDate.toLocaleDateString() :\n",
              "                                    'n/a'} - `));\n",
              "    const percent = span('0% done');\n",
              "    li.appendChild(percent);\n",
              "\n",
              "    outputElement.appendChild(li);\n",
              "\n",
              "    const fileDataPromise = new Promise((resolve) => {\n",
              "      const reader = new FileReader();\n",
              "      reader.onload = (e) => {\n",
              "        resolve(e.target.result);\n",
              "      };\n",
              "      reader.readAsArrayBuffer(file);\n",
              "    });\n",
              "    // Wait for the data to be ready.\n",
              "    let fileData = yield {\n",
              "      promise: fileDataPromise,\n",
              "      response: {\n",
              "        action: 'continue',\n",
              "      }\n",
              "    };\n",
              "\n",
              "    // Use a chunked sending to avoid message size limits. See b/62115660.\n",
              "    let position = 0;\n",
              "    do {\n",
              "      const length = Math.min(fileData.byteLength - position, MAX_PAYLOAD_SIZE);\n",
              "      const chunk = new Uint8Array(fileData, position, length);\n",
              "      position += length;\n",
              "\n",
              "      const base64 = btoa(String.fromCharCode.apply(null, chunk));\n",
              "      yield {\n",
              "        response: {\n",
              "          action: 'append',\n",
              "          file: file.name,\n",
              "          data: base64,\n",
              "        },\n",
              "      };\n",
              "\n",
              "      let percentDone = fileData.byteLength === 0 ?\n",
              "          100 :\n",
              "          Math.round((position / fileData.byteLength) * 100);\n",
              "      percent.textContent = `${percentDone}% done`;\n",
              "\n",
              "    } while (position < fileData.byteLength);\n",
              "  }\n",
              "\n",
              "  // All done.\n",
              "  yield {\n",
              "    response: {\n",
              "      action: 'complete',\n",
              "    }\n",
              "  };\n",
              "}\n",
              "\n",
              "scope.google = scope.google || {};\n",
              "scope.google.colab = scope.google.colab || {};\n",
              "scope.google.colab._files = {\n",
              "  _uploadFiles,\n",
              "  _uploadFilesContinue,\n",
              "};\n",
              "})(self);\n",
              "</script> "
            ]
          },
          "metadata": {}
        },
        {
          "output_type": "stream",
          "name": "stdout",
          "text": [
            "Saving smishTank_set.xlsx to smishTank_set (6).xlsx\n"
          ]
        }
      ]
    },
    {
      "cell_type": "code",
      "source": [
        "# Process excel file\n",
        "def process_excel(input_file):\n",
        "    # Assign file to pandas dataframe\n",
        "    df = pd.read_excel(input_file, header=None)\n",
        "    # Rename columns\n",
        "    df.columns = ['SMS Body']\n",
        "\n",
        "    # To store results for each value\n",
        "    authenticity_results = []\n",
        "\n",
        "    # Process rows in batches of 5\n",
        "    batch_size = 5\n",
        "\n",
        "    for i in range(0, len(df), batch_size):\n",
        "        batch = df['SMS Body'][i:i+batch_size].tolist()\n",
        "        batch_results = [detect(message) for message in batch]\n",
        "        authenticity_results.extend(batch_results)\n",
        "\n",
        "        # Print status after processing each batch\n",
        "        print(f\"Processed inputs {i + 1} to {i + len(batch)}, Results = {batch_results}\")\n",
        "\n",
        "        # Add a delay between batches to avoid rate limiting\n",
        "        time.sleep(20)\n",
        "\n",
        "    # Assign results to new column\n",
        "    df['Authenticity'] = authenticity_results\n",
        "\n",
        "    # Write updated dataframe to new file\n",
        "    output_file = \"processed_\" + input_file\n",
        "    df.to_excel(output_file, index=False)\n",
        "\n",
        "    # Download modified file to local machine\n",
        "    files.download(output_file)"
      ],
      "metadata": {
        "id": "ZX2_SLxHcXML"
      },
      "execution_count": 7,
      "outputs": []
    },
    {
      "cell_type": "code",
      "source": [
        "#process file\n",
        "pFile = next(iter(uploaded))\n",
        "process_excel(pFile)"
      ],
      "metadata": {
        "colab": {
          "base_uri": "https://localhost:8080/",
          "height": 1000
        },
        "id": "VRWHsN4KUKeb",
        "outputId": "3de17c9a-7c0b-4e27-809a-443d0e36c417"
      },
      "execution_count": 8,
      "outputs": [
        {
          "output_type": "stream",
          "name": "stdout",
          "text": [
            "Processed inputs 1 to 5, Results = [['Real'], ['Fake'], ['Real'], ['Real'], ['Real']]\n",
            "Processed inputs 6 to 10, Results = [['Real'], ['Real'], ['Fake'], ['Real'], ['Fake']]\n",
            "Processed inputs 11 to 15, Results = [['Real'], ['Real'], ['Real'], ['Real'], ['Real']]\n",
            "Processed inputs 16 to 20, Results = [['Fake'], ['Fake'], ['Real'], ['Fake'], ['Real']]\n",
            "Processed inputs 21 to 25, Results = [['Real'], ['Fake'], ['Fake'], ['Fake'], ['Real']]\n",
            "Processed inputs 26 to 30, Results = [['Real'], ['Real'], ['Fake'], ['Fake'], ['Real']]\n",
            "Processed inputs 31 to 35, Results = [['Fake'], ['Real'], ['Real'], ['Real'], ['Real']]\n",
            "Processed inputs 36 to 40, Results = [['Real'], ['Real'], ['Fake'], ['Fake'], ['Fake']]\n",
            "Processed inputs 41 to 45, Results = [['Real'], ['Real'], ['Undetermined'], ['Real'], ['Real']]\n",
            "Processed inputs 46 to 50, Results = [['Real'], ['Real'], ['Real'], ['Real'], ['Real']]\n",
            "Processed inputs 51 to 55, Results = [['Real'], ['Real'], ['Fake'], ['Real'], ['Fake']]\n",
            "Processed inputs 56 to 60, Results = [['Fake'], ['Real'], ['Fake'], ['Real'], ['Real']]\n",
            "Processed inputs 61 to 65, Results = [['Fake'], ['Fake'], ['Real'], ['Real'], ['Real']]\n",
            "Processed inputs 66 to 70, Results = [['Real'], ['Real'], ['Undetermined'], ['Real'], ['Real']]\n",
            "Processed inputs 71 to 75, Results = [['Real'], ['Real'], ['Real'], ['Fake'], ['Real']]\n",
            "Processed inputs 76 to 80, Results = [['Real'], ['Real'], ['Fake'], ['Fake'], ['Real']]\n",
            "Processed inputs 81 to 85, Results = [['Real'], ['Real'], ['Fake'], ['Fake'], ['Real']]\n",
            "Processed inputs 86 to 90, Results = [['Real'], ['Real'], ['Real'], ['Real'], ['Real']]\n",
            "Processed inputs 91 to 95, Results = [['Real'], ['Fake'], ['Real'], ['Real'], ['Real']]\n",
            "Processed inputs 96 to 100, Results = [['Real'], ['Undetermined'], ['Fake'], ['Fake'], ['Real']]\n",
            "Processed inputs 101 to 105, Results = [['Real'], ['Fake'], ['Real'], ['Real'], ['Real']]\n",
            "Processed inputs 106 to 110, Results = [['Real'], ['Real'], ['Real'], ['Real'], ['Real']]\n",
            "Processed inputs 111 to 115, Results = [['Real'], ['Real'], ['Fake'], ['Real'], ['Real']]\n",
            "Processed inputs 116 to 120, Results = [['Real'], ['Fake'], ['Real'], ['Fake'], ['Fake']]\n",
            "Processed inputs 121 to 125, Results = [['Real'], ['Real'], ['Real'], ['Real'], ['Real']]\n",
            "Processed inputs 126 to 130, Results = [['Real'], ['Real'], ['Real'], ['Real'], ['Real']]\n",
            "Processed inputs 131 to 135, Results = [['Real'], ['Real'], ['Real'], ['Fake'], ['Real']]\n",
            "Processed inputs 136 to 140, Results = [['Real'], ['Real'], ['Fake'], ['Fake'], ['Real']]\n",
            "Processed inputs 141 to 145, Results = [['Real'], ['Fake'], ['Real'], ['Fake'], ['Real']]\n",
            "Processed inputs 146 to 150, Results = [['Fake'], ['Fake'], ['Real'], ['Real'], ['Real']]\n",
            "Processed inputs 151 to 155, Results = [['Real'], ['Fake'], ['Real'], ['Fake'], ['Real']]\n",
            "Processed inputs 156 to 160, Results = [['Real'], ['Real'], ['Fake'], ['Real'], ['Real']]\n",
            "Processed inputs 161 to 165, Results = [['Real'], ['Fake'], ['Fake'], ['Real'], ['Real']]\n",
            "Processed inputs 166 to 170, Results = [['Real'], ['Real'], ['Fake'], ['Real'], ['Real']]\n",
            "Processed inputs 171 to 175, Results = [['Real'], ['Fake'], ['Real'], ['Real'], ['Real']]\n",
            "Processed inputs 176 to 180, Results = [['Real'], ['Fake'], ['Real'], ['Real'], ['Real']]\n",
            "Processed inputs 181 to 185, Results = [['Real'], ['Real'], ['Fake'], ['Fake'], ['Real']]\n",
            "Processed inputs 186 to 190, Results = [['Real'], ['Real'], ['Real'], ['Fake'], ['Fake']]\n",
            "Processed inputs 191 to 195, Results = [['Real'], ['Real'], ['Fake'], ['Real'], ['Fake']]\n",
            "Processed inputs 196 to 200, Results = [['Fake'], ['Real'], ['Real'], ['Real'], ['Fake']]\n",
            "Processed inputs 201 to 205, Results = [['Real'], ['Real'], ['Real'], ['Fake'], ['Fake']]\n",
            "Processed inputs 206 to 210, Results = [['Fake'], ['Undetermined'], ['Real'], ['Real'], ['Real']]\n",
            "Processed inputs 211 to 215, Results = [['Fake'], ['Real'], ['Real'], ['Real'], ['Real']]\n",
            "Processed inputs 216 to 220, Results = [['Real'], ['Real'], ['Fake'], ['Real'], ['Real']]\n",
            "Processed inputs 221 to 225, Results = [['Real'], ['Real'], ['Real'], ['Fake'], ['Real']]\n",
            "Processed inputs 226 to 230, Results = [['Real'], ['Fake'], ['Fake'], ['Real'], ['Fake']]\n",
            "Processed inputs 231 to 235, Results = [['Real'], ['Fake'], ['Real'], ['Real'], ['Real']]\n",
            "Processed inputs 236 to 240, Results = [['Real'], ['Real'], ['Fake'], ['Undetermined'], ['Real']]\n",
            "Processed inputs 241 to 245, Results = [['Real'], ['Fake'], ['Real'], ['Fake'], ['Fake']]\n",
            "Processed inputs 246 to 250, Results = [['Fake'], ['Real'], ['Real'], ['Real'], ['Real']]\n",
            "Processed inputs 251 to 255, Results = [['Fake'], ['Fake'], ['Real'], ['Real'], ['Real']]\n",
            "Processed inputs 256 to 260, Results = [['Real'], ['Real'], ['Fake'], ['Real'], ['Real']]\n",
            "Processed inputs 261 to 265, Results = [['Real'], ['Fake'], ['Fake'], ['Real'], ['Real']]\n",
            "Processed inputs 266 to 270, Results = [['Real'], ['Fake'], ['Real'], ['Real'], ['Real']]\n",
            "Processed inputs 271 to 275, Results = [['Fake'], ['Real'], ['Real'], ['Real'], ['Real']]\n",
            "Processed inputs 276 to 280, Results = [['Fake'], ['Fake'], ['Real'], ['Real'], ['Fake']]\n",
            "Processed inputs 281 to 285, Results = [['Real'], ['Fake'], ['Real'], ['Real'], ['Real']]\n",
            "Processed inputs 286 to 290, Results = [['Real'], ['Real'], ['Real'], ['Real'], ['Real']]\n",
            "Processed inputs 291 to 295, Results = [['Real'], ['Real'], ['Real'], ['Real'], ['Real']]\n",
            "Processed inputs 296 to 300, Results = [['Real'], ['Real'], ['Real'], ['Real'], ['Real']]\n",
            "Processed inputs 301 to 305, Results = [['Real'], ['Real'], ['Fake'], ['Real'], ['Real']]\n",
            "Processed inputs 306 to 310, Results = [['Real'], ['Fake'], ['Real'], ['Real'], ['Real']]\n",
            "Processed inputs 311 to 315, Results = [['Real'], ['Real'], ['Real'], ['Real'], ['Real']]\n",
            "Processed inputs 316 to 320, Results = [['Fake'], ['Real'], ['Real'], ['Real'], ['Real']]\n",
            "Processed inputs 321 to 325, Results = [['Fake'], ['Fake'], ['Real'], ['Real'], ['Real']]\n",
            "Processed inputs 326 to 330, Results = [['Real'], ['Real'], ['Real'], ['Real'], ['Real']]\n",
            "Processed inputs 331 to 335, Results = [['Real'], ['Real'], ['Real'], ['Real'], ['Real']]\n",
            "Processed inputs 336 to 340, Results = [['Real'], ['Real'], ['Real'], ['Real'], ['Undetermined']]\n",
            "Processed inputs 341 to 345, Results = [['Real'], ['Real'], ['Fake'], ['Fake'], ['Real']]\n",
            "Processed inputs 346 to 350, Results = [['Real'], ['Real'], ['Fake'], ['Real'], ['Real']]\n",
            "Processed inputs 351 to 355, Results = [['Real'], ['Real'], ['Fake'], ['Real'], ['Fake']]\n",
            "Processed inputs 356 to 360, Results = [['Real'], ['Fake'], ['Real'], ['Real'], ['Real']]\n",
            "Processed inputs 361 to 365, Results = [['Real'], ['Real'], ['Fake'], ['Real'], ['Real']]\n",
            "Processed inputs 366 to 370, Results = [['Real'], ['Fake'], ['Real'], ['Fake'], ['Real']]\n",
            "Processed inputs 371 to 375, Results = [['Real'], ['Fake'], ['Real'], ['Fake'], ['Fake']]\n",
            "Processed inputs 376 to 380, Results = [['Fake'], ['Fake'], ['Fake'], ['Real'], ['Real']]\n",
            "Processed inputs 381 to 385, Results = [['Real'], ['Real'], ['Real'], ['Real'], ['Real']]\n",
            "Processed inputs 386 to 390, Results = [['Fake'], ['Real'], ['Real'], ['Real'], ['Real']]\n",
            "Processed inputs 391 to 395, Results = [['Fake'], ['Real'], ['Real'], ['Fake'], ['Fake']]\n",
            "Processed inputs 396 to 400, Results = [['Fake'], ['Real'], ['Real'], ['Real'], ['Real']]\n",
            "Processed inputs 401 to 405, Results = [['Real'], ['Real'], ['Undetermined'], ['Real'], ['Real']]\n",
            "Processed inputs 406 to 410, Results = [['Fake'], ['Real'], ['Real'], ['Real'], ['Real']]\n",
            "Processed inputs 411 to 415, Results = [['Real'], ['Fake'], ['Real'], ['Fake'], ['Fake']]\n",
            "Processed inputs 416 to 420, Results = [['Fake'], ['Real'], ['Real'], ['Fake'], ['Real']]\n",
            "Processed inputs 421 to 425, Results = [['Fake'], ['Real'], ['Real'], ['Real'], ['Real']]\n",
            "Processed inputs 426 to 430, Results = [['Real'], ['Real'], ['Fake'], ['Real'], ['Fake']]\n",
            "Processed inputs 431 to 435, Results = [['Real'], ['Real'], ['Fake'], ['Real'], ['Real']]\n",
            "Processed inputs 436 to 440, Results = [['Fake'], ['Real'], ['Real'], ['Fake'], ['Fake']]\n",
            "Processed inputs 441 to 445, Results = [['Real'], ['Real'], ['Real'], ['Real'], ['Fake']]\n",
            "Processed inputs 446 to 450, Results = [['Real'], ['Real'], ['Real'], ['Real'], ['Real']]\n",
            "Processed inputs 451 to 455, Results = [['Fake'], ['Real'], ['Real'], ['Real'], ['Real']]\n",
            "Processed inputs 456 to 460, Results = [['Real'], ['Real'], ['Real'], ['Real'], ['Fake']]\n",
            "Processed inputs 461 to 465, Results = [['Real'], ['Fake'], ['Real'], ['Real'], ['Fake']]\n",
            "Processed inputs 466 to 470, Results = [['Fake'], ['Real'], ['Real'], ['Real'], ['Fake']]\n",
            "Processed inputs 471 to 475, Results = [['Real'], ['Real'], ['Real'], ['Fake'], ['Real']]\n",
            "Processed inputs 476 to 480, Results = [['Real'], ['Real'], ['Fake'], ['Fake'], ['Real']]\n",
            "Processed inputs 481 to 485, Results = [['Real'], ['Fake'], ['Fake'], ['Real'], ['Real']]\n",
            "Processed inputs 486 to 490, Results = [['Real'], ['Fake'], ['Real'], ['Fake'], ['Real']]\n",
            "Processed inputs 491 to 495, Results = [['Real'], ['Undetermined'], ['Real'], ['Real'], ['Real']]\n",
            "Processed inputs 496 to 500, Results = [['Fake'], ['Real'], ['Real'], ['Real'], ['Fake']]\n"
          ]
        },
        {
          "output_type": "display_data",
          "data": {
            "text/plain": [
              "<IPython.core.display.Javascript object>"
            ],
            "application/javascript": [
              "\n",
              "    async function download(id, filename, size) {\n",
              "      if (!google.colab.kernel.accessAllowed) {\n",
              "        return;\n",
              "      }\n",
              "      const div = document.createElement('div');\n",
              "      const label = document.createElement('label');\n",
              "      label.textContent = `Downloading \"${filename}\": `;\n",
              "      div.appendChild(label);\n",
              "      const progress = document.createElement('progress');\n",
              "      progress.max = size;\n",
              "      div.appendChild(progress);\n",
              "      document.body.appendChild(div);\n",
              "\n",
              "      const buffers = [];\n",
              "      let downloaded = 0;\n",
              "\n",
              "      const channel = await google.colab.kernel.comms.open(id);\n",
              "      // Send a message to notify the kernel that we're ready.\n",
              "      channel.send({})\n",
              "\n",
              "      for await (const message of channel.messages) {\n",
              "        // Send a message to notify the kernel that we're ready.\n",
              "        channel.send({})\n",
              "        if (message.buffers) {\n",
              "          for (const buffer of message.buffers) {\n",
              "            buffers.push(buffer);\n",
              "            downloaded += buffer.byteLength;\n",
              "            progress.value = downloaded;\n",
              "          }\n",
              "        }\n",
              "      }\n",
              "      const blob = new Blob(buffers, {type: 'application/binary'});\n",
              "      const a = document.createElement('a');\n",
              "      a.href = window.URL.createObjectURL(blob);\n",
              "      a.download = filename;\n",
              "      div.appendChild(a);\n",
              "      a.click();\n",
              "      div.remove();\n",
              "    }\n",
              "  "
            ]
          },
          "metadata": {}
        },
        {
          "output_type": "display_data",
          "data": {
            "text/plain": [
              "<IPython.core.display.Javascript object>"
            ],
            "application/javascript": [
              "download(\"download_66e3a068-8e5a-44df-bc0d-2ac2292e32f6\", \"processed_smishTank_set (6).xlsx\", 44816)"
            ]
          },
          "metadata": {}
        }
      ]
    },
    {
      "cell_type": "code",
      "source": [
        "#download modified file to local machine\n",
        "files.download(\"processed_\" + pFile)"
      ],
      "metadata": {
        "colab": {
          "base_uri": "https://localhost:8080/",
          "height": 17
        },
        "id": "MI9vOQ3egVPQ",
        "outputId": "7663b21d-49ef-4ec1-eac1-1a646b25a793"
      },
      "execution_count": 9,
      "outputs": [
        {
          "output_type": "display_data",
          "data": {
            "text/plain": [
              "<IPython.core.display.Javascript object>"
            ],
            "application/javascript": [
              "\n",
              "    async function download(id, filename, size) {\n",
              "      if (!google.colab.kernel.accessAllowed) {\n",
              "        return;\n",
              "      }\n",
              "      const div = document.createElement('div');\n",
              "      const label = document.createElement('label');\n",
              "      label.textContent = `Downloading \"${filename}\": `;\n",
              "      div.appendChild(label);\n",
              "      const progress = document.createElement('progress');\n",
              "      progress.max = size;\n",
              "      div.appendChild(progress);\n",
              "      document.body.appendChild(div);\n",
              "\n",
              "      const buffers = [];\n",
              "      let downloaded = 0;\n",
              "\n",
              "      const channel = await google.colab.kernel.comms.open(id);\n",
              "      // Send a message to notify the kernel that we're ready.\n",
              "      channel.send({})\n",
              "\n",
              "      for await (const message of channel.messages) {\n",
              "        // Send a message to notify the kernel that we're ready.\n",
              "        channel.send({})\n",
              "        if (message.buffers) {\n",
              "          for (const buffer of message.buffers) {\n",
              "            buffers.push(buffer);\n",
              "            downloaded += buffer.byteLength;\n",
              "            progress.value = downloaded;\n",
              "          }\n",
              "        }\n",
              "      }\n",
              "      const blob = new Blob(buffers, {type: 'application/binary'});\n",
              "      const a = document.createElement('a');\n",
              "      a.href = window.URL.createObjectURL(blob);\n",
              "      a.download = filename;\n",
              "      div.appendChild(a);\n",
              "      a.click();\n",
              "      div.remove();\n",
              "    }\n",
              "  "
            ]
          },
          "metadata": {}
        },
        {
          "output_type": "display_data",
          "data": {
            "text/plain": [
              "<IPython.core.display.Javascript object>"
            ],
            "application/javascript": [
              "download(\"download_cc80fdbd-785b-42fe-ba6e-bd948c73b76e\", \"processed_smishTank_set (6).xlsx\", 44816)"
            ]
          },
          "metadata": {}
        }
      ]
    }
  ]
}