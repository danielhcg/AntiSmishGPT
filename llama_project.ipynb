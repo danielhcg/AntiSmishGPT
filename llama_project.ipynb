{
  "nbformat": 4,
  "nbformat_minor": 0,
  "metadata": {
    "colab": {
      "provenance": [],
      "authorship_tag": "ABX9TyMsH1nchhSKkan5oenQl8ZD",
      "include_colab_link": true
    },
    "kernelspec": {
      "name": "python3",
      "display_name": "Python 3"
    },
    "language_info": {
      "name": "python"
    }
  },
  "cells": [
    {
      "cell_type": "markdown",
      "metadata": {
        "id": "view-in-github",
        "colab_type": "text"
      },
      "source": [
        "<a href=\"https://colab.research.google.com/github/danielhcg/AntiSmishGPT/blob/main/llama_project.ipynb\" target=\"_parent\"><img src=\"https://colab.research.google.com/assets/colab-badge.svg\" alt=\"Open In Colab\"/></a>"
      ]
    },
    {
      "cell_type": "code",
      "source": [
        "#pip install llamaapi"
      ],
      "metadata": {
        "id": "s5TKM_5bnN5_"
      },
      "execution_count": 47,
      "outputs": []
    },
    {
      "cell_type": "code",
      "source": [
        "import json\n",
        "from llamaapi import LlamaAPI\n",
        "from google.colab import userdata"
      ],
      "metadata": {
        "id": "5Ix6wZzQvN5E"
      },
      "execution_count": 48,
      "outputs": []
    },
    {
      "cell_type": "code",
      "source": [
        "# Initialize the LlamaAPI globally with the API key\n",
        "llama_api = LlamaAPI(userdata.get('LLAMA_API_KEY'))"
      ],
      "metadata": {
        "id": "S_lMCmidvQ7y"
      },
      "execution_count": 49,
      "outputs": []
    },
    {
      "cell_type": "code",
      "source": [
        "#generating api request\n",
        "def createRequest(sender, body):\n",
        "    prompt = f\"Sender: {sender}\\nSMS Body: {body}\\nIs this SMS message real or fake?\"\n",
        "    return {\"messages\": [{\"role\": \"user\", \"content\": prompt},]}"
      ],
      "metadata": {
        "id": "a0PfUd2dvhOB"
      },
      "execution_count": 50,
      "outputs": []
    },
    {
      "cell_type": "code",
      "source": [
        "def get_api_response(api_request_json):\n",
        "    \"\"\"Send the API request and return the response as a dictionary.\"\"\"\n",
        "    try:\n",
        "        # Directly return the response dictionary\n",
        "        response = llama_api.run(api_request_json)\n",
        "        return response\n",
        "    except Exception as e:\n",
        "        print(\"An error occurred while fetching the response:\", str(e))\n",
        "        return None"
      ],
      "metadata": {
        "id": "J5-Culacwq2r"
      },
      "execution_count": 51,
      "outputs": []
    },
    {
      "cell_type": "code",
      "source": [
        "def determine_authenticity(response_data):\n",
        "    \"\"\"Determine if the SMS is real or fake from the API's response.\"\"\"\n",
        "    if response_data and 'choices' in response_data:\n",
        "        # Accessing the first item in 'choices' list and extracting 'content'\n",
        "        authenticity = response_data['choices'][0].get('message', {}).get('content', \"\")\n",
        "        # Normalize the content to lower case to safely check 'real' or 'fake'\n",
        "        if \"real\" in authenticity.lower():\n",
        "            return \"Real\"\n",
        "        elif \"fake\" in authenticity.lower():\n",
        "            return \"Fake\"\n",
        "        else:\n",
        "            return \"Undetermined\"\n",
        "    else:\n",
        "        print(\"No authenticity information found in the response.\")\n",
        "        return \"Undetermined\""
      ],
      "metadata": {
        "id": "rqz4c0dvxLDp"
      },
      "execution_count": 52,
      "outputs": []
    },
    {
      "cell_type": "code",
      "source": [
        "def detect(sender, body):\n",
        "    \"\"\"Evaluate if an SMS message is real or fake by making an API call.\"\"\"\n",
        "    api_request_json = createRequest(sender, body)\n",
        "    response_data = get_api_response(api_request_json)\n",
        "    result = determine_authenticity(response_data)\n",
        "    return result"
      ],
      "metadata": {
        "id": "Sn7nuQTM06SJ"
      },
      "execution_count": 53,
      "outputs": []
    },
    {
      "cell_type": "code",
      "source": [
        "#example\n",
        "sender = \"+1 (872) 279-0672\"  # Example sender\n",
        "sms_body = \"Hi, you still owe UPS $4.10 USD in customs fees for your previous package. Reply 1 to receive a secure link to pay your invoice.\"  # Example SMS body\n"
      ],
      "metadata": {
        "id": "jd47IlMNu-r9"
      },
      "execution_count": 56,
      "outputs": []
    },
    {
      "cell_type": "code",
      "source": [
        "result = detect(sender, sms_body)\n",
        "print(\"Authenticity:\", result)"
      ],
      "metadata": {
        "colab": {
          "base_uri": "https://localhost:8080/"
        },
        "id": "F_AaSVzqvCrQ",
        "outputId": "fd5e3b81-7e23-4058-e3ba-cfb32ddff2cb"
      },
      "execution_count": 57,
      "outputs": [
        {
          "output_type": "stream",
          "name": "stdout",
          "text": [
            "No authenticity information found in the response.\n",
            "Authenticity: Undetermined\n"
          ]
        }
      ]
    }
  ]
}