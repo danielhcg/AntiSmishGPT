{
  "nbformat": 4,
  "nbformat_minor": 0,
  "metadata": {
    "colab": {
      "provenance": [],
      "authorship_tag": "ABX9TyNiuVJP4OVVbUpYg9utpCcW",
      "include_colab_link": true
    },
    "kernelspec": {
      "name": "python3",
      "display_name": "Python 3"
    },
    "language_info": {
      "name": "python"
    }
  },
  "cells": [
    {
      "cell_type": "markdown",
      "metadata": {
        "id": "view-in-github",
        "colab_type": "text"
      },
      "source": [
        "<a href=\"https://colab.research.google.com/github/danielhcg/AntiSmishGPT/blob/main/llama_smishTank_Testing.ipynb\" target=\"_parent\"><img src=\"https://colab.research.google.com/assets/colab-badge.svg\" alt=\"Open In Colab\"/></a>"
      ]
    },
    {
      "cell_type": "code",
      "execution_count": 31,
      "metadata": {
        "colab": {
          "base_uri": "https://localhost:8080/"
        },
        "id": "dQW3lM4jkpNP",
        "outputId": "5d692909-4b78-41cc-aebb-66f871ec79c1"
      },
      "outputs": [
        {
          "output_type": "stream",
          "name": "stdout",
          "text": [
            "Requirement already satisfied: llamaapi in /usr/local/lib/python3.10/dist-packages (0.1.36)\n",
            "Requirement already satisfied: aiohttp<4.0.0,>=3.8.5 in /usr/local/lib/python3.10/dist-packages (from llamaapi) (3.9.5)\n",
            "Requirement already satisfied: nest-asyncio<2.0.0,>=1.5.6 in /usr/local/lib/python3.10/dist-packages (from llamaapi) (1.6.0)\n",
            "Requirement already satisfied: requests<3.0.0,>=2.27.1 in /usr/local/lib/python3.10/dist-packages (from llamaapi) (2.31.0)\n",
            "Requirement already satisfied: aiosignal>=1.1.2 in /usr/local/lib/python3.10/dist-packages (from aiohttp<4.0.0,>=3.8.5->llamaapi) (1.3.1)\n",
            "Requirement already satisfied: attrs>=17.3.0 in /usr/local/lib/python3.10/dist-packages (from aiohttp<4.0.0,>=3.8.5->llamaapi) (23.2.0)\n",
            "Requirement already satisfied: frozenlist>=1.1.1 in /usr/local/lib/python3.10/dist-packages (from aiohttp<4.0.0,>=3.8.5->llamaapi) (1.4.1)\n",
            "Requirement already satisfied: multidict<7.0,>=4.5 in /usr/local/lib/python3.10/dist-packages (from aiohttp<4.0.0,>=3.8.5->llamaapi) (6.0.5)\n",
            "Requirement already satisfied: yarl<2.0,>=1.0 in /usr/local/lib/python3.10/dist-packages (from aiohttp<4.0.0,>=3.8.5->llamaapi) (1.9.4)\n",
            "Requirement already satisfied: async-timeout<5.0,>=4.0 in /usr/local/lib/python3.10/dist-packages (from aiohttp<4.0.0,>=3.8.5->llamaapi) (4.0.3)\n",
            "Requirement already satisfied: charset-normalizer<4,>=2 in /usr/local/lib/python3.10/dist-packages (from requests<3.0.0,>=2.27.1->llamaapi) (3.3.2)\n",
            "Requirement already satisfied: idna<4,>=2.5 in /usr/local/lib/python3.10/dist-packages (from requests<3.0.0,>=2.27.1->llamaapi) (3.7)\n",
            "Requirement already satisfied: urllib3<3,>=1.21.1 in /usr/local/lib/python3.10/dist-packages (from requests<3.0.0,>=2.27.1->llamaapi) (2.0.7)\n",
            "Requirement already satisfied: certifi>=2017.4.17 in /usr/local/lib/python3.10/dist-packages (from requests<3.0.0,>=2.27.1->llamaapi) (2024.2.2)\n"
          ]
        }
      ],
      "source": [
        "pip install llamaapi"
      ]
    },
    {
      "cell_type": "code",
      "source": [
        "pip install tqdm\n"
      ],
      "metadata": {
        "id": "0MvQyoGqo7Kl",
        "outputId": "3e660102-4db4-452c-b5d4-bc64648ed4b0",
        "colab": {
          "base_uri": "https://localhost:8080/"
        }
      },
      "execution_count": 32,
      "outputs": [
        {
          "output_type": "stream",
          "name": "stdout",
          "text": [
            "Requirement already satisfied: tqdm in /usr/local/lib/python3.10/dist-packages (4.66.4)\n"
          ]
        }
      ]
    },
    {
      "cell_type": "code",
      "source": [
        "import pandas as pd\n",
        "import json\n",
        "from llamaapi import LlamaAPI\n",
        "from google.colab import userdata\n",
        "from tqdm import tqdm\n",
        "import re  # Ensure 're' module is imported\n",
        "\n",
        "\n",
        "# Initialize the SDK\n",
        "llama = LlamaAPI(userdata.get('LLAMA-API-KEY'))\n"
      ],
      "metadata": {
        "collapsed": true,
        "id": "Pjli20Sxkyd0"
      },
      "execution_count": 41,
      "outputs": []
    },
    {
      "cell_type": "code",
      "source": [
        "def test_api(message):\n",
        "    response = llama.run({\"messages\": [{\"role\": \"user\", \"content\": message}]}).json()\n",
        "    content = response['choices'][0]['message']['content']\n",
        "    print(f\"API response content: {content}\")\n",
        "\n",
        "# Test message\n",
        "message = \"Costco: Daniel, the code 42003 printed on your receipt from 10 came in 2nd in our Airpods draw: f2gpy.info/RzNKEws Zve\"\n",
        "test_message = f\"Is this message real or fake. Just say real, fake, or undetermined: {message}\"\n",
        "test_api(test_message)"
      ],
      "metadata": {
        "collapsed": true,
        "id": "0jFgfSLXp3y6",
        "outputId": "f523f99c-042e-4b99-8a13-83071085f674",
        "colab": {
          "base_uri": "https://localhost:8080/"
        }
      },
      "execution_count": 74,
      "outputs": [
        {
          "output_type": "stream",
          "name": "stdout",
          "text": [
            "API response content: Fake\n"
          ]
        }
      ]
    },
    {
      "cell_type": "code",
      "source": [
        "def check_sms_legitimacy(message):\n",
        "    request_message = f\"Is this message real or fake. Just say real, fake, or undetermined: {message}\"\n",
        "    response = llama.run({\"messages\": [{\"role\": \"user\", \"content\": request_message}]}).json()\n",
        "    content = response['choices'][0]['message']['content']\n",
        "    return content\n",
        "\n",
        "# Read messages from an Excel file\n",
        "input_file = 'sms_messages.xlsx'\n",
        "df = pd.read_excel(input_file, header=None)\n",
        "df.columns = ['message']\n",
        "\n",
        "# Process each message and get legitimacy determination\n",
        "determinations = []\n",
        "for i, message in enumerate(df['message'], start=1):\n",
        "    determination = check_sms_legitimacy(message)\n",
        "    determinations.append(determination)\n",
        "    print(f\"Message {i}: {determination}\")\n",
        "\n",
        "# Add the determinations to the DataFrame\n",
        "df['determination'] = determinations\n",
        "\n",
        "# Save the results to a new Excel file\n",
        "output_file = 'sms_legitimacy_results.xlsx'\n",
        "df.to_excel(output_file, index=False)\n",
        "\n",
        "print(\"Legitimacy check completed. Results saved to:\", output_file)"
      ],
      "metadata": {
        "id": "xpj6JK04eUxX",
        "outputId": "4d75c761-b0de-404e-deab-905959a21f8b",
        "colab": {
          "base_uri": "https://localhost:8080/"
        }
      },
      "execution_count": 76,
      "outputs": [
        {
          "output_type": "stream",
          "name": "stdout",
          "text": [
            "Message 1: Fake\n",
            "Message 2: Fake\n",
            "Message 3: Fake\n",
            "Message 4: Fake\n",
            "Message 5: Real\n",
            "Message 6: Fake\n",
            "Message 7: Fake\n",
            "Message 8: Fake\n",
            "Message 9: Fake\n",
            "Message 10: Real\n",
            "Message 11: Fake\n",
            "Message 12: Fake\n",
            "Message 13: Fake\n",
            "Message 14: Fake\n",
            "Message 15: Fake\n",
            "Message 16: Real\n",
            "Message 17: Fake\n",
            "Message 18: Fake\n",
            "Message 19: Fake\n",
            "Message 20: Fake\n",
            "Message 21: Fake\n",
            "Message 22: Fake\n",
            "Message 23: Fake\n",
            "Message 24: Fake\n",
            "Message 25: Fake\n",
            "Message 26: Fake\n",
            "Message 27: Fake\n",
            "Message 28: Fake\n",
            "Message 29: Fake\n",
            "Message 30: Fake\n",
            "Message 31: Fake\n",
            "Message 32: Fake\n",
            "Message 33: Fake\n",
            "Message 34: Fake\n",
            "Message 35: Fake\n",
            "Message 36: Fake\n",
            "Message 37: Fake\n",
            "Message 38: Fake\n",
            "Message 39: Fake\n",
            "Message 40: Fake\n",
            "Legitimacy check completed. Results saved to: sms_legitimacy_results.xlsx\n"
          ]
        }
      ]
    },
    {
      "cell_type": "code",
      "source": [
        "def check_sms_legitimacy(message):\n",
        "    request = {\n",
        "        \"messages\": [{\"role\": \"user\", \"content\": f\"Is the following SMS message real or fake? {message}\"}],\n",
        "        \"functions\": [\n",
        "            {\n",
        "                \"name\": \"check_sms_legitimacy\",\n",
        "                \"description\": \"Determine if an SMS message is legitimate or fake\",\n",
        "                \"parameters\": {\"type\": \"object\", \"properties\": {\"message\": {\"type\": \"string\"}}},\n",
        "                \"required\": [\"message\"],\n",
        "            }\n",
        "        ],\n",
        "        \"stream\": False,\n",
        "        \"function_call\": \"check_sms_legitimacy\",\n",
        "    }\n",
        "\n",
        "    response = llama.run(request).json()\n",
        "    print(f\"Raw API response for message '{message}': {json.dumps(response, indent=2)}\")\n",
        "\n",
        "    try:\n",
        "        arguments = json.loads(response['choices'][0]['message']['function_call']['arguments'])\n",
        "        result = arguments.get('result')\n",
        "        if result.lower() in ['real', 'fake']:\n",
        "            return result.lower()\n",
        "        else:\n",
        "            raise ValueError(\"Unexpected result value\")\n",
        "    except (KeyError, json.JSONDecodeError, ValueError) as e:\n",
        "        print(f\"Error parsing arguments: {e}\")\n",
        "        return 'error'\n",
        "\n",
        "# Example SMS message\n",
        "message = \"Costco: Daniel, the code 42003 printed on your receipt from 10 came in 2nd in our Airpods draw: f2gpy.info/RzNKEws Zve\"\n",
        "determination = check_sms_legitimacy(message)\n",
        "print(f\"Message: {message}\")\n",
        "print(f\"Determination: {determination}\")"
      ],
      "metadata": {
        "id": "1TeWZRGvb6HH"
      },
      "execution_count": null,
      "outputs": []
    }
  ]
}