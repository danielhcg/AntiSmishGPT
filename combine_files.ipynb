{
  "nbformat": 4,
  "nbformat_minor": 0,
  "metadata": {
    "colab": {
      "provenance": [],
      "authorship_tag": "ABX9TyMPW7wElJkZLvvMiWohrgy/",
      "include_colab_link": true
    },
    "kernelspec": {
      "name": "python3",
      "display_name": "Python 3"
    },
    "language_info": {
      "name": "python"
    }
  },
  "cells": [
    {
      "cell_type": "markdown",
      "metadata": {
        "id": "view-in-github",
        "colab_type": "text"
      },
      "source": [
        "<a href=\"https://colab.research.google.com/github/danielhcg/AntiSmishGPT/blob/main/combine_files.ipynb\" target=\"_parent\"><img src=\"https://colab.research.google.com/assets/colab-badge.svg\" alt=\"Open In Colab\"/></a>"
      ]
    },
    {
      "cell_type": "code",
      "execution_count": 1,
      "metadata": {
        "colab": {
          "base_uri": "https://localhost:8080/"
        },
        "id": "U15_fPS6QI31",
        "outputId": "fbde090c-aeff-4f58-e126-c05c11ca0b79"
      },
      "outputs": [
        {
          "output_type": "stream",
          "name": "stdout",
          "text": [
            "Mounted at /content/drive\n"
          ]
        }
      ],
      "source": [
        "#mounting google drive\n",
        "from google.colab import drive\n",
        "drive.mount('/content/drive')"
      ]
    },
    {
      "cell_type": "code",
      "source": [
        "import os\n",
        "import pandas as pd\n",
        "from google.colab import userdata"
      ],
      "metadata": {
        "id": "QH2vDPE2RqOB"
      },
      "execution_count": 5,
      "outputs": []
    },
    {
      "cell_type": "code",
      "source": [
        "#specify path to files to combine\n",
        "dir = userdata.get('MIXTRAL-MEND-DIR')"
      ],
      "metadata": {
        "id": "-Y6w2ZqoRwI5"
      },
      "execution_count": 7,
      "outputs": []
    },
    {
      "cell_type": "code",
      "source": [
        "files = [] # empty list to store file paths"
      ],
      "metadata": {
        "id": "cnDWhHNdVRdh"
      },
      "execution_count": 9,
      "outputs": []
    },
    {
      "cell_type": "code",
      "source": [
        "# iterate through each file in directory to access each path\n",
        "for file in os.listdir(dir):\n",
        "  if file.startswith('processed_mendeley_set_') and file.endswith('.xlsx'):\n",
        "    #combine folder path with file name for full path\n",
        "    path = os.path.join(dir, file)\n",
        "    files.append(path)"
      ],
      "metadata": {
        "id": "iHKZum44UHYn"
      },
      "execution_count": 10,
      "outputs": []
    },
    {
      "cell_type": "code",
      "source": [
        "files.sort() #sort the files alphabetically"
      ],
      "metadata": {
        "id": "SW90O2CcVbSB"
      },
      "execution_count": 11,
      "outputs": []
    },
    {
      "cell_type": "code",
      "source": [
        "dataFrames = [] # empty list to store dataframes"
      ],
      "metadata": {
        "id": "3d3eOmSlVpXr"
      },
      "execution_count": 12,
      "outputs": []
    },
    {
      "cell_type": "code",
      "source": [
        "# Read each Excel file and append the dataframe to the list\n",
        "for file in files:\n",
        "    df = pd.read_excel(file)\n",
        "    dataFrames.append(df)"
      ],
      "metadata": {
        "id": "Az6gs69SVsRF"
      },
      "execution_count": 13,
      "outputs": []
    },
    {
      "cell_type": "code",
      "source": [
        "# Concatenate all dataframes into one\n",
        "combined_df = pd.concat(dataFrames, ignore_index=True)"
      ],
      "metadata": {
        "id": "kCvvJ6NTV5ji"
      },
      "execution_count": 14,
      "outputs": []
    },
    {
      "cell_type": "code",
      "source": [
        "# Save the combined dataframe to a new Excel file in the same directory\n",
        "output_path = os.path.join(dir, 'combined_file.xlsx')\n",
        "combined_df.to_excel(output_path, index=False)\n",
        "\n",
        "print(f\"Files combined successfully!\")"
      ],
      "metadata": {
        "id": "sXuX1LjhV-E4"
      },
      "execution_count": null,
      "outputs": []
    }
  ]
}