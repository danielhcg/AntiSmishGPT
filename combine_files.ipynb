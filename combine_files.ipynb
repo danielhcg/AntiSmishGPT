{
  "nbformat": 4,
  "nbformat_minor": 0,
  "metadata": {
    "colab": {
      "provenance": [],
      "authorship_tag": "ABX9TyPsBDPiFRSvpaeUkJEGAbde",
      "include_colab_link": true
    },
    "kernelspec": {
      "name": "python3",
      "display_name": "Python 3"
    },
    "language_info": {
      "name": "python"
    }
  },
  "cells": [
    {
      "cell_type": "markdown",
      "metadata": {
        "id": "view-in-github",
        "colab_type": "text"
      },
      "source": [
        "<a href=\"https://colab.research.google.com/github/danielhcg/AntiSmishGPT/blob/main/combine_files.ipynb\" target=\"_parent\"><img src=\"https://colab.research.google.com/assets/colab-badge.svg\" alt=\"Open In Colab\"/></a>"
      ]
    },
    {
      "cell_type": "code",
      "execution_count": 59,
      "metadata": {
        "colab": {
          "base_uri": "https://localhost:8080/"
        },
        "id": "U15_fPS6QI31",
        "outputId": "3e7712be-ca37-46e3-95e9-71eb8a889545"
      },
      "outputs": [
        {
          "output_type": "stream",
          "name": "stdout",
          "text": [
            "Drive already mounted at /content/drive; to attempt to forcibly remount, call drive.mount(\"/content/drive\", force_remount=True).\n"
          ]
        }
      ],
      "source": [
        "#mounting google drive\n",
        "from google.colab import drive\n",
        "drive.mount('/content/drive')"
      ]
    },
    {
      "cell_type": "code",
      "source": [
        "import os\n",
        "import pandas as pd\n",
        "import numpy as np\n",
        "from google.colab import userdata"
      ],
      "metadata": {
        "id": "QH2vDPE2RqOB"
      },
      "execution_count": 67,
      "outputs": []
    },
    {
      "cell_type": "code",
      "source": [
        "#specify path to files to combine\n",
        "dir = userdata.get('MIXTRAL-MEND-DIR')"
      ],
      "metadata": {
        "id": "-Y6w2ZqoRwI5"
      },
      "execution_count": 61,
      "outputs": []
    },
    {
      "cell_type": "code",
      "source": [
        "files = [] # empty list to store file paths"
      ],
      "metadata": {
        "id": "cnDWhHNdVRdh"
      },
      "execution_count": 62,
      "outputs": []
    },
    {
      "cell_type": "code",
      "source": [
        "# iterate through each file in directory to access each path\n",
        "for file in os.listdir(dir):\n",
        "  if file.startswith('processed_mendeley_set_') and file.endswith('.xlsx'):\n",
        "    #combine folder path with file name for full path\n",
        "    path = os.path.join(dir, file)\n",
        "    files.append(path)"
      ],
      "metadata": {
        "id": "iHKZum44UHYn"
      },
      "execution_count": 63,
      "outputs": []
    },
    {
      "cell_type": "code",
      "source": [
        "files.sort() #sort the files alphabetically"
      ],
      "metadata": {
        "id": "SW90O2CcVbSB"
      },
      "execution_count": 64,
      "outputs": []
    },
    {
      "cell_type": "code",
      "source": [
        "dataFrames = [] # empty list to store dataframes"
      ],
      "metadata": {
        "id": "3d3eOmSlVpXr"
      },
      "execution_count": 65,
      "outputs": []
    },
    {
      "cell_type": "code",
      "source": [
        "# Read each Excel file and append the dataframe to the list\n",
        "for file in files:\n",
        "    df = pd.read_excel(file)\n",
        "    dataFrames.append(df)\n",
        "    # Add an empty row with NaN values\n",
        "    empty_row = pd.DataFrame(np.nan, index=[0], columns=df.columns)\n",
        "    dataFrames.append(empty_row)"
      ],
      "metadata": {
        "id": "Az6gs69SVsRF"
      },
      "execution_count": 69,
      "outputs": []
    },
    {
      "cell_type": "code",
      "source": [
        "# Concatenate all dataframes into one\n",
        "combined_df = pd.concat(dataFrames, axis=0, ignore_index=True)"
      ],
      "metadata": {
        "id": "kCvvJ6NTV5ji"
      },
      "execution_count": 70,
      "outputs": []
    },
    {
      "cell_type": "code",
      "source": [
        "# Drop the last empty row if it exists\n",
        "if combined_df.iloc[-1].isnull().all():\n",
        "    combined_df = combined_df[:-1]"
      ],
      "metadata": {
        "id": "W8Iax6nDeUlu"
      },
      "execution_count": 71,
      "outputs": []
    },
    {
      "cell_type": "code",
      "source": [
        "# Save the combined dataframe to a new Excel file in the same directory\n",
        "output_path = os.path.join(dir, 'combined_file.xlsx')\n",
        "combined_df.to_excel(output_path, index=False)\n",
        "\n",
        "print(f\"Files combined successfully!\")"
      ],
      "metadata": {
        "colab": {
          "base_uri": "https://localhost:8080/"
        },
        "id": "sXuX1LjhV-E4",
        "outputId": "00e3040d-2a61-42aa-c5d6-9f623942c144"
      },
      "execution_count": 72,
      "outputs": [
        {
          "output_type": "stream",
          "name": "stdout",
          "text": [
            "Files combined successfully!\n"
          ]
        }
      ]
    }
  ]
}